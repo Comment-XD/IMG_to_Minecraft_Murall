{
 "cells": [
  {
   "cell_type": "code",
   "execution_count": 2,
   "id": "fa43f13e",
   "metadata": {},
   "outputs": [],
   "source": [
    "import numpy as np\n",
    "import pandas as pd \n",
    "import matplotlib.pyplot as plt\n",
    "\n",
    "from sklearn.cluster import KMeans\n",
    "from sklearn.metrics import silhouette_score\n",
    "import numpy as np"
   ]
  },
  {
   "cell_type": "code",
   "execution_count": 3,
   "id": "c2c1b7be",
   "metadata": {},
   "outputs": [],
   "source": [
    "X = pd.read_csv('panda.csv', index_col=0)\n",
    "colnames = list(X.columns[1:-1])\n",
    "X = X.to_numpy()"
   ]
  },
  {
   "cell_type": "code",
   "execution_count": 4,
   "id": "28488cf2",
   "metadata": {},
   "outputs": [
    {
     "data": {
      "text/plain": [
       "2"
      ]
     },
     "execution_count": 4,
     "metadata": {},
     "output_type": "execute_result"
    }
   ],
   "source": [
    "num_clusters = np.arange(2,10)\n",
    "results = {}\n",
    "for size in num_clusters:\n",
    "    model = KMeans(n_clusters = size).fit(X)\n",
    "    predictions = model.predict(X)\n",
    "    results[size] = silhouette_score(X, predictions)\n",
    "\n",
    "best_size = max(results, key=results.get)\n",
    "best_size"
   ]
  },
  {
   "cell_type": "code",
   "execution_count": 35,
   "id": "53b8f3e5",
   "metadata": {},
   "outputs": [
    {
     "name": "stdout",
     "output_type": "stream",
     "text": [
      "[0 0 0 ... 0 0 0]\n",
      "[[252.24421965 252.18304432 253.17774566]\n",
      " [252.24421965 252.18304432 253.17774566]\n",
      " [252.24421965 252.18304432 253.17774566]\n",
      " ...\n",
      " [252.24421965 252.18304432 253.17774566]\n",
      " [252.24421965 252.18304432 253.17774566]\n",
      " [252.24421965 252.18304432 253.17774566]]\n"
     ]
    }
   ],
   "source": [
    "# num_clusters = np.arange(2,10)\n",
    "# results = {}\n",
    "# for size in num_clusters:\n",
    "\n",
    "size = 3\n",
    "model = KMeans(n_clusters = size).fit(X)\n",
    "predictions = model.predict(X)\n",
    "# results[size] = silhouette_score(X, predictions)\n",
    "\n",
    "# best_size = max(results, key=results.get)\n",
    "# best_size\n",
    "print(predictions)\n",
    "# prints out the index of the clusters\n",
    "\n",
    "centroids = model.cluster_centers_\n",
    "# centroids\n",
    "wool_id = {\"white\": centroids[0], \n",
    "         \"black\": centroids[1],\n",
    "         \"light_grey\": centroids[2]}\n",
    "\n",
    "\n",
    "trained_data = [centroids[value] for value in predictions]\n",
    "# print(np.array(trained_data))"
   ]
  },
  {
   "cell_type": "code",
   "execution_count": null,
   "id": "5083a910",
   "metadata": {},
   "outputs": [],
   "source": []
  },
  {
   "cell_type": "code",
   "execution_count": 58,
   "id": "cf799144",
   "metadata": {},
   "outputs": [
    {
     "ename": "AttributeError",
     "evalue": "'RangeIndex' object has no attribute 'level'",
     "output_type": "error",
     "traceback": [
      "\u001b[1;31m---------------------------------------------------------------------------\u001b[0m",
      "\u001b[1;31mAttributeError\u001b[0m                            Traceback (most recent call last)",
      "Input \u001b[1;32mIn [58]\u001b[0m, in \u001b[0;36m<cell line: 6>\u001b[1;34m()\u001b[0m\n\u001b[0;32m      1\u001b[0m df \u001b[38;5;241m=\u001b[39m pd\u001b[38;5;241m.\u001b[39mDataFrame(trained_data, columns\u001b[38;5;241m=\u001b[39m[\u001b[38;5;124m'\u001b[39m\u001b[38;5;124mColumn 1\u001b[39m\u001b[38;5;124m'\u001b[39m, \u001b[38;5;124m'\u001b[39m\u001b[38;5;124mColumn 2\u001b[39m\u001b[38;5;124m'\u001b[39m, \u001b[38;5;124m'\u001b[39m\u001b[38;5;124mColumn 3\u001b[39m\u001b[38;5;124m'\u001b[39m])\u001b[38;5;241m.\u001b[39mreplace([\u001b[38;5;241m*\u001b[39mwool_id\u001b[38;5;241m.\u001b[39mvalues()], [\u001b[38;5;241m*\u001b[39mwool_id\u001b[38;5;241m.\u001b[39mkeys()])\n\u001b[0;32m      2\u001b[0m \u001b[38;5;66;03m# give data to train the machine, gave us the 3 centroids from the cluster \u001b[39;00m\n\u001b[0;32m      3\u001b[0m \u001b[38;5;66;03m# do we write a program that \u001b[39;00m\n\u001b[0;32m      4\u001b[0m \u001b[38;5;66;03m# userful commands to learn .loc, ,sort_values(), value_counts()\u001b[39;00m\n\u001b[1;32m----> 6\u001b[0m \u001b[43mdf\u001b[49m\u001b[38;5;241;43m.\u001b[39;49m\u001b[43mindex\u001b[49m\u001b[38;5;241;43m.\u001b[39;49m\u001b[43mlevel\u001b[49m[\u001b[38;5;241m0\u001b[39m]\u001b[38;5;241m.\u001b[39mvalue_counts()\n",
      "\u001b[1;31mAttributeError\u001b[0m: 'RangeIndex' object has no attribute 'level'"
     ]
    }
   ],
   "source": [
    "df = pd.DataFrame(trained_data, columns=['Column 1', 'Column 2', 'Column 3']).replace([*wool_id.values()], [*wool_id.keys()])\n",
    "# give data to train the machine, gave us the 3 centroids from the cluster \n",
    "# do we write a program that \n",
    "# userful commands to learn .loc, ,sort_values(), value_counts()\n",
    "\n",
    "df.index."
   ]
  }
 ],
 "metadata": {
  "kernelspec": {
   "display_name": "Python 3 (ipykernel)",
   "language": "python",
   "name": "python3"
  },
  "language_info": {
   "codemirror_mode": {
    "name": "ipython",
    "version": 3
   },
   "file_extension": ".py",
   "mimetype": "text/x-python",
   "name": "python",
   "nbconvert_exporter": "python",
   "pygments_lexer": "ipython3",
   "version": "3.9.12"
  }
 },
 "nbformat": 4,
 "nbformat_minor": 5
}
